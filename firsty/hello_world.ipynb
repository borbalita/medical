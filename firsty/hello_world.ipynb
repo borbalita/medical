{
 "cells": [
  {
   "cell_type": "code",
   "execution_count": null,
   "id": "82e3857b-c616-4c0b-8522-42ea612fb89f",
   "metadata": {},
   "outputs": [],
   "source": [
    "# Hello world"
   ]
  },
  {
   "cell_type": "code",
   "execution_count": null,
   "id": "8cabdbe5",
   "metadata": {},
   "outputs": [],
   "source": [
    "print('Hello bello')"
   ]
  },
  {
   "cell_type": "code",
   "execution_count": null,
   "id": "515bef7b",
   "metadata": {},
   "outputs": [],
   "source": []
  }
 ],
 "metadata": {
  "kernelspec": {
   "display_name": "cv",
   "language": "python",
   "name": "cv"
  },
  "language_info": {
   "codemirror_mode": {
    "name": "ipython",
    "version": 3
   },
   "file_extension": ".py",
   "mimetype": "text/x-python",
   "name": "python",
   "nbconvert_exporter": "python",
   "pygments_lexer": "ipython3",
   "version": "3.10.0"
  }
 },
 "nbformat": 4,
 "nbformat_minor": 5
}
