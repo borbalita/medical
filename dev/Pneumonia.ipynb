{
 "cells": [
  {
   "cell_type": "code",
   "execution_count": null,
   "metadata": {},
   "outputs": [],
   "source": [
    "%load_ext autoreload\n",
    "%autoreload 2"
   ]
  },
  {
   "cell_type": "code",
   "execution_count": null,
   "metadata": {},
   "outputs": [],
   "source": [
    "import pickle\n",
    "import datetime\n",
    "import matplotlib.pyplot as plt\n",
    "import numpy as np\n",
    "import os\n",
    "from pathlib import Path\n",
    "import pandas as pd\n",
    "import pydicom as dcm\n",
    "import torch\n",
    "from torch.utils.data import DataLoader\n",
    "from torchvision.datasets import DatasetFolder\n",
    "from torchvision.transforms import Compose, ToTensor, Normalize, RandomAffine, RandomResizedCrop\n",
    "import pneumonia.preprocess as preproc\n",
    "from pneumonia.evaluate import evaluate_classifier\n",
    "from pneumonia.classifier import PneumoniaClassifier, train_pneumonia_classifier"
   ]
  },
  {
   "cell_type": "markdown",
   "metadata": {},
   "source": [
    "# Take a look at the x-ray images"
   ]
  },
  {
   "cell_type": "code",
   "execution_count": null,
   "metadata": {},
   "outputs": [],
   "source": [
    "raw_dir = 'data/stage_2_train_images'\n",
    "label_path = 'data/stage_2_train_labels.csv'\n",
    "\n",
    "num_images = 9\n",
    "labels = pd.read_csv(label_path)\n",
    "dicom_files = [file for file in os.listdir(raw_dir) if file.endswith('.dcm')]\n",
    "\n",
    "# Plot the pixel array of the first 9 DICOM images\n",
    "for i in range(num_images):\n",
    "    file_path = os.path.join(raw_dir, dicom_files[i])\n",
    "    patient_id = os.path.splitext(dicom_files[i])[0]\n",
    "    label = labels[labels['patientId'] == patient_id]['Target'].iloc[0]\n",
    "    ds = dcm.dcmread(file_path)\n",
    "    pixel_array = ds.pixel_array\n",
    "    plt.subplot(3, 3, i+1)\n",
    "    plt.title(f'Label: {label}')\n",
    "    plt.imshow(pixel_array, cmap='bone')\n",
    "    plt.axis('off')\n",
    "\n",
    "plt.show()\n"
   ]
  },
  {
   "cell_type": "markdown",
   "metadata": {},
   "source": [
    "# Parameters"
   ]
  },
  {
   "cell_type": "code",
   "execution_count": null,
   "metadata": {},
   "outputs": [],
   "source": [
    "shape = (224, 224)\n",
    "raw_dir = raw_dir\n",
    "label_path = label_path\n",
    "preproc_dir = 'preprocessed'\n",
    "batch_size = 64\n",
    "num_workers = 4"
   ]
  },
  {
   "cell_type": "markdown",
   "metadata": {},
   "source": [
    "# Preprocessing"
   ]
  },
  {
   "cell_type": "code",
   "execution_count": null,
   "metadata": {},
   "outputs": [],
   "source": [
    "if not os.path.exists(preproc_dir):\n",
    "    preproc.preprocess(raw_dir, label_path, preproc_dir, shape)\n",
    "    \n",
    "standard_params = preproc.compute_standard_params(preproc_dir, shape)\n",
    "with open('../models/standard_params.pkl', 'wb') as file:\n",
    "    pickle.dump(standard_params, file)\n",
    "\n"
   ]
  },
  {
   "cell_type": "markdown",
   "metadata": {},
   "source": [
    "# Construct data loader"
   ]
  },
  {
   "cell_type": "code",
   "execution_count": null,
   "metadata": {},
   "outputs": [],
   "source": [
    "def load_img(file_name):\n",
    "    return np.load(file_name).astype(np.float32)"
   ]
  },
  {
   "cell_type": "code",
   "execution_count": null,
   "metadata": {},
   "outputs": [],
   "source": [
    "train_transforms = Compose([\n",
    "    ToTensor(),\n",
    "    Normalize(*standard_params),\n",
    "    RandomAffine(degrees=5, translate=(0, 0.05), scale=(0.9, 1.1)),\n",
    "    RandomResizedCrop(224, scale=(0.35, 1.))\n",
    "])\n",
    "val_transforms = Compose([ToTensor(), Normalize(*standard_params)])"
   ]
  },
  {
   "cell_type": "code",
   "execution_count": null,
   "metadata": {},
   "outputs": [],
   "source": [
    "train_data = DatasetFolder(os.path.join(preproc_dir, 'train'), \n",
    "loader=load_img, extensions='.npy', transform=train_transforms)\n",
    "val_data = DatasetFolder(os.path.join(preproc_dir, 'val'), loader=load_img, extensions='.npy', transform=val_transforms)"
   ]
  },
  {
   "cell_type": "code",
   "execution_count": null,
   "metadata": {},
   "outputs": [],
   "source": [
    "train_loader = DataLoader(train_data, batch_size=batch_size, shuffle=True, num_workers=num_workers)\n",
    "val_loader = DataLoader(val_data, batch_size=batch_size, shuffle=True, num_workers=num_workers)\n"
   ]
  },
  {
   "cell_type": "code",
   "execution_count": null,
   "metadata": {},
   "outputs": [],
   "source": [
    "np.unique(train_data.targets, return_counts=True), np.unique(val_data.targets, return_counts=True)"
   ]
  },
  {
   "cell_type": "code",
   "execution_count": null,
   "metadata": {},
   "outputs": [],
   "source": [
    "for batch in train_loader:\n",
    "    for i in range(3):\n",
    "        rand_idx = np.random.randint(batch[0].shape[0])\n",
    "        plt.subplot(1, 3, i+1)\n",
    "        plt.imshow(batch[0][rand_idx, 0, :, :], cmap='bone')\n",
    "        plt.title(f'label: {batch[1][rand_idx]}')\n",
    "        plt.axis('off')\n",
    "    break"
   ]
  },
  {
   "cell_type": "markdown",
   "metadata": {},
   "source": [
    "# Create and train model"
   ]
  },
  {
   "cell_type": "code",
   "execution_count": null,
   "metadata": {},
   "outputs": [],
   "source": [
    "model = train_pneumonia_classifier()"
   ]
  },
  {
   "cell_type": "markdown",
   "metadata": {},
   "source": [
    "# Save model"
   ]
  },
  {
   "cell_type": "code",
   "execution_count": null,
   "metadata": {},
   "outputs": [],
   "source": [
    "model_dir = Path('dev/model')\n",
    "current_date = datetime.datetime.now().strftime(\"%Y%m%d%H%M%S\")\n",
    "file_name = f'resnet_{current_date}.pth'"
   ]
  },
  {
   "cell_type": "code",
   "execution_count": null,
   "metadata": {},
   "outputs": [],
   "source": [
    "os.makedirs(model_dir, exist_ok=True)\n",
    "save(pnm_model.state_dict(), model_dir / file_name)\n"
   ]
  },
  {
   "cell_type": "markdown",
   "metadata": {},
   "source": [
    "# Load model"
   ]
  },
  {
   "cell_type": "code",
   "execution_count": null,
   "metadata": {},
   "outputs": [],
   "source": [
    "model_path = '../models/resnet_2024-02-06.pth'\n",
    "pnm_model = PneumoniaClassifier()\n",
    "pnm_model.load_state_dict(torch.load(model_path))\n",
    "device = torch.device(\"cuda:0\" if torch.cuda.is_available() else \"cpu\")\n",
    "pnm_model.to(device)"
   ]
  },
  {
   "cell_type": "code",
   "execution_count": null,
   "metadata": {},
   "outputs": [],
   "source": [
    "torch.unsqueeze(torch.from_numpy(img), 0)"
   ]
  },
  {
   "cell_type": "code",
   "execution_count": null,
   "metadata": {},
   "outputs": [],
   "source": [
    "img = np.array(val_data[0][0][0])\n",
    "# Pass the image through the trained model to obtain the predicted probabilities\n",
    "with torch.no_grad():\n",
    "    img_tensor = torch.unsqueeze(torch.unsqueeze(torch.from_numpy(img), 0), 0).to(device)\n",
    "    output = pnm_model(img_tensor)\n",
    "\n",
    "# Extract the predicted probability for the desired class\n",
    "predicted_probability = torch.sigmoid(output).item()\n"
   ]
  },
  {
   "cell_type": "markdown",
   "metadata": {},
   "source": [
    "# Evaluation"
   ]
  },
  {
   "cell_type": "code",
   "execution_count": null,
   "metadata": {},
   "outputs": [],
   "source": [
    "train_preds, train_labels, val_preds, val_labels = evaluate_classifier(pnm_model, train_loader, val_loader)"
   ]
  },
  {
   "cell_type": "code",
   "execution_count": null,
   "metadata": {},
   "outputs": [],
   "source": [
    "\n",
    "show_random_images(val_data, val_preds, val_labels)"
   ]
  },
  {
   "cell_type": "code",
   "execution_count": null,
   "metadata": {},
   "outputs": [],
   "source": [
    "# Load and preprocess the image\n",
    "image_path = 'path_to_image.jpg'  # Replace with the actual path to your image\n",
    "image = Image.open(image_path)\n",
    "preprocessed_image = val_transforms(image)\n",
    "\n",
    "# Convert the preprocessed image to a tensor\n",
    "tensor_image = torch.unsqueeze(preprocessed_image, 0)\n",
    "\n",
    "# Move the tensor to the appropriate device\n",
    "tensor_image = tensor_image.to(device)\n",
    "\n",
    "# Pass the tensor through the trained model to obtain the predicted probabilities\n",
    "with torch.no_grad():\n",
    "    output = pnm_model(tensor_image)\n",
    "\n",
    "# Extract the predicted probability for the desired class\n",
    "predicted_probability = torch.sigmoid(output).item()\n"
   ]
  }
 ],
 "metadata": {
  "kernelspec": {
   "display_name": "cv",
   "language": "python",
   "name": "cv"
  },
  "language_info": {
   "codemirror_mode": {
    "name": "ipython",
    "version": 3
   },
   "file_extension": ".py",
   "mimetype": "text/x-python",
   "name": "python",
   "nbconvert_exporter": "python",
   "pygments_lexer": "ipython3",
   "version": "3.10.0"
  }
 },
 "nbformat": 4,
 "nbformat_minor": 2
}
